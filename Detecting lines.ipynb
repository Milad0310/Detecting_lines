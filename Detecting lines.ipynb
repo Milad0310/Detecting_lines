{
 "cells": [
  {
   "cell_type": "code",
   "execution_count": 1,
   "id": "794d5c56",
   "metadata": {},
   "outputs": [],
   "source": [
    "import cv2\n",
    "import numpy as np"
   ]
  },
  {
   "cell_type": "code",
   "execution_count": 2,
   "id": "302c0a92",
   "metadata": {},
   "outputs": [],
   "source": [
    "img = cv2.imread('22.jpg')\n",
    "gray = cv2.cvtColor(img, cv2.COLOR_BGR2GRAY)\n",
    "edges = cv2.Canny(gray, 50, 120)"
   ]
  },
  {
   "cell_type": "code",
   "execution_count": 3,
   "id": "66d77729",
   "metadata": {},
   "outputs": [],
   "source": [
    "minLineLength = 25\n",
    "maxLineGap = 5\n",
    "lines = cv2.HoughLinesP(edges, 1, np.pi/360.0, 20,\n",
    " minLineLength, maxLineGap)\n",
    "for x1, y1, x2, y2 in lines[0]:\n",
    "    cv2.line(img, (x1, y1), (x2, y2), (0,0,255),2)"
   ]
  },
  {
   "cell_type": "code",
   "execution_count": null,
   "id": "62530e57",
   "metadata": {},
   "outputs": [],
   "source": [
    "cv2.imshow(\"edges\", edges)\n",
    "cv2.imshow(\"lines\", img)\n",
    "cv2.waitKey()\n",
    "cv2.destroyAllWindows()"
   ]
  }
 ],
 "metadata": {
  "kernelspec": {
   "display_name": "Python 3 (ipykernel)",
   "language": "python",
   "name": "python3"
  },
  "language_info": {
   "codemirror_mode": {
    "name": "ipython",
    "version": 3
   },
   "file_extension": ".py",
   "mimetype": "text/x-python",
   "name": "python",
   "nbconvert_exporter": "python",
   "pygments_lexer": "ipython3",
   "version": "3.9.13"
  }
 },
 "nbformat": 4,
 "nbformat_minor": 5
}
